{
 "cells": [
  {
   "cell_type": "markdown",
   "id": "5524e9c2",
   "metadata": {},
   "source": [
    "**Exercise Week 6**\n",
    "\n",
    "**Author: Ahmad Ichsan Baihaqi**\n",
    "\n",
    "**Email: ahmadichsanbaihaqi@gmail.com**"
   ]
  },
  {
   "cell_type": "code",
   "execution_count": 7,
   "id": "80c0812e",
   "metadata": {},
   "outputs": [
    {
     "data": {
      "text/plain": [
       "{'Phone': 'iPhone 11', 'Tablet': 'iPad Mini', 'Laptop': 'Macbook Pro'}"
      ]
     },
     "execution_count": 7,
     "metadata": {},
     "output_type": "execute_result"
    }
   ],
   "source": [
    "def questionOne():\n",
    "    def dictionary(keys, values):\n",
    "        return dict(zip(keys, values))\n",
    "    \n",
    "    ## sample\n",
    "    keys = ['Phone', 'Tablet', 'Laptop']\n",
    "    values = ['iPhone 11', 'iPad Mini', 'Macbook Pro']\n",
    "    \n",
    "    result = dictionary(keys, values)\n",
    "    \n",
    "    return result\n",
    "\n",
    "questionOne()"
   ]
  },
  {
   "cell_type": "code",
   "execution_count": 25,
   "id": "84f90af3",
   "metadata": {},
   "outputs": [
    {
     "name": "stdout",
     "output_type": "stream",
     "text": [
      "Sorry, fibonacci start from 0\n",
      "Next fibonacci number is 1, and it is the 2nd Fibonacci number\n",
      "Next fibonacci number is 21, and it is the 9th Fibonacci number\n",
      "Next fibonacci number is 89, and it is the 12th Fibonacci number\n",
      "Next fibonacci number is 89, and it is the 12th Fibonacci number\n"
     ]
    }
   ],
   "source": [
    "from math import sqrt\n",
    "\n",
    "## run to install humanize: pip install humanize\n",
    "from humanize import number\n",
    "\n",
    "def questionTwo():\n",
    "    def fibonacci(n):\n",
    "        if (n < 0):\n",
    "            return \"Sorry, fibonacci start from 0\"\n",
    "\n",
    "        if (n == 0):\n",
    "            return f\"Next fibonacci number is {1}, and it is the 2nd Fibonacci number\"\n",
    "\n",
    "        if (n == 1):\n",
    "            return f\"Next fibonacci number is {1}, and it is the 3rd Fibonacci number\"\n",
    "    \n",
    "        n_2 = 1\n",
    "        n_1 = 1\n",
    "        position = 4\n",
    "\n",
    "        sums = n_2 + n_1\n",
    "\n",
    "        while (sums <= n):\n",
    "            position = position + 1\n",
    "\n",
    "            # Update the first\n",
    "            n_2 = n_1\n",
    "\n",
    "            # Update the second\n",
    "            n_1 = sums\n",
    "\n",
    "            # Update the third\n",
    "            sums = n_2 + n_1\n",
    "\n",
    "        return f\"Next fibonacci number is {sums}, and it is the {number.ordinal(position)} Fibonacci number\"\n",
    "\n",
    "    print(fibonacci(-1))\n",
    "    print(fibonacci(0))\n",
    "    print(fibonacci(14))\n",
    "    print(fibonacci(60))\n",
    "    print(fibonacci(55))\n",
    "    \n",
    "questionTwo()"
   ]
  },
  {
   "cell_type": "code",
   "execution_count": 38,
   "id": "24cd42b4",
   "metadata": {},
   "outputs": [
    {
     "name": "stdout",
     "output_type": "stream",
     "text": [
      "1\n",
      "2\n"
     ]
    }
   ],
   "source": [
    "import numpy as np\n",
    "\n",
    "def questionThree():    \n",
    "    def scoring(input_array, approved, not_approved):\n",
    "        in_approved = [item for item in input_array if item in approved]\n",
    "        in_not_approved = [item for item in input_array if item in not_approved]\n",
    "\n",
    "        total_approved = len(in_approved)\n",
    "        total_not_approved = len(in_not_approved)\n",
    "\n",
    "        return total_approved - total_not_approved\n",
    "\n",
    "    print(scoring(\n",
    "        [1, 2, 3, 4, 10, 9, 8, 7],\n",
    "        [1, 10, 11],\n",
    "        [8, 5]\n",
    "    ))\n",
    "\n",
    "    print(scoring(\n",
    "        [1, 1, 1, 5, 5, 2, 3, 10],\n",
    "        [1, 3],\n",
    "        [5]\n",
    "    ))\n",
    "    \n",
    "questionThree()"
   ]
  }
 ],
 "metadata": {
  "kernelspec": {
   "display_name": "Python 3",
   "language": "python",
   "name": "python3"
  },
  "language_info": {
   "codemirror_mode": {
    "name": "ipython",
    "version": 3
   },
   "file_extension": ".py",
   "mimetype": "text/x-python",
   "name": "python",
   "nbconvert_exporter": "python",
   "pygments_lexer": "ipython3",
   "version": "3.8.8"
  }
 },
 "nbformat": 4,
 "nbformat_minor": 5
}
